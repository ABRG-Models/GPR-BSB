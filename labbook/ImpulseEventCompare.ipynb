{
 "cells": [
  {
   "cell_type": "markdown",
   "metadata": {
    "deletable": true,
    "editable": true
   },
   "source": [
    "# Basal Ganglia on SpiNNaker and SpineML\n",
    "\n",
    "Comparing event based and impulse based cut-down models with predictable connectivity and Poisson inputs."
   ]
  },
  {
   "cell_type": "markdown",
   "metadata": {
    "deletable": true,
    "editable": true
   },
   "source": [
    "## Simple analysis from rate\n",
    "\n",
    "This is very simple spike counting code, useful for constant input, steady state network analysis."
   ]
  },
  {
   "cell_type": "code",
   "execution_count": 4,
   "metadata": {
    "collapsed": false,
    "deletable": true,
    "editable": true
   },
   "outputs": [],
   "source": [
    "import numpy as np\n",
    "def firing_rate (logdir1, spikelogfile, numneurons, simlength_ms, offset_ms=0):\n",
    "    # Read first lot of data\n",
    "    logpath = logdir1 + spikelogfile\n",
    "    spikelist = np.genfromtxt (logpath, delimiter=',')\n",
    "    \n",
    "    if spikelist.size == 0:\n",
    "        print ('Total rate in {0} neurons in {1}: 0 (empty log file)'.format(numneurons, spikelogfile))\n",
    "        return 0, 0\n",
    "    #print ('spikelist.shape: {0}'.format(spikelist.shape))\n",
    "    # Number of rate total / number of neurons / time\n",
    "    if spikelist.shape[0] == 2:\n",
    "        trate = 1\n",
    "    else:\n",
    "        trate = len(spikelist[:,0])\n",
    "        #print ('trate is {0}'.format(trate))\n",
    "        sli = np.where(spikelist[:,0]>offset_ms)\n",
    "        #print (spikelist[sli,0])\n",
    "        trate = len(spikelist[sli,0].T)\n",
    "        #print ('trate is {0}'.format(trate))\n",
    "\n",
    "    print ('Total rate in {0} neurons in {1}: {2}'.format(numneurons, spikelogfile, trate))\n",
    "    \n",
    "    spnps = float(trate) / float(numneurons) / float(float(simlength_ms)/1000.0)\n",
    "    print ('Mean spike rate: {0}'.format(spnps))\n",
    "    \n",
    "    return trate, spnps\n",
    "    \n",
    "    # I'd like to implement a moving bin to get a better estimate of the stats on the spike rate.\n",
    "    # Shouldn't be too hard, except that as the spike rate is so low in some populations, I'd probably need\n",
    "    # to run the model for much longer, so perhaps there's no great advantage over just running the model ten times.\n",
    "    "
   ]
  },
  {
   "cell_type": "code",
   "execution_count": 10,
   "metadata": {
    "collapsed": false,
    "deletable": true,
    "editable": true,
    "scrolled": true
   },
   "outputs": [
    {
     "name": "stdout",
     "output_type": "stream",
     "text": [
      "Total rate in 1255 neurons in D1_MSN_spike_log.csv: 2961\n",
      "Mean spike rate: 0.393227091633\n",
      "Total rate in 84 neurons in FSI_spike_log.csv: 684\n",
      "Mean spike rate: 1.35714285714\n"
     ]
    },
    {
     "data": {
      "text/plain": [
       "(684, 1.357142857142857)"
      ]
     },
     "execution_count": 10,
     "metadata": {},
     "output_type": "execute_result"
    }
   ],
   "source": [
    "# Event Based Model\n",
    "firing_rate('/home/seb/src/SpineML_2_BRAHMS/temp/EventBased_e0/log/','D1_MSN_spike_log.csv', 1255, 6000)\n",
    "firing_rate('/home/seb/src/SpineML_2_BRAHMS/temp/EventBased_e0/log/','FSI_spike_log.csv', 84, 6000)"
   ]
  },
  {
   "cell_type": "code",
   "execution_count": 11,
   "metadata": {
    "collapsed": false,
    "deletable": true,
    "editable": true,
    "scrolled": true
   },
   "outputs": [
    {
     "name": "stdout",
     "output_type": "stream",
     "text": [
      "Total rate in 1255 neurons in D1_MSN_spike_log.csv: 2832\n",
      "Mean spike rate: 0.37609561753\n",
      "Total rate in 84 neurons in FSI_spike_log.csv: 691\n",
      "Mean spike rate: 1.37103174603\n"
     ]
    },
    {
     "data": {
      "text/plain": [
       "(691, 1.371031746031746)"
      ]
     },
     "execution_count": 11,
     "metadata": {},
     "output_type": "execute_result"
    }
   ],
   "source": [
    "# Impulse Based Model\n",
    "firing_rate('/home/seb/src/SpineML_2_BRAHMS/temp/ImpulseBased_e0/log/','D1_MSN_spike_log.csv', 1255, 6000)\n",
    "firing_rate('/home/seb/src/SpineML_2_BRAHMS/temp/ImpulseBased_e0/log/','FSI_spike_log.csv', 84, 6000)"
   ]
  },
  {
   "cell_type": "markdown",
   "metadata": {
    "deletable": true,
    "editable": true
   },
   "source": [
    "## Batch running"
   ]
  },
  {
   "cell_type": "code",
   "execution_count": 25,
   "metadata": {
    "collapsed": true,
    "deletable": true,
    "editable": true
   },
   "outputs": [],
   "source": [
    "def runsim (spineml2brahmsdir, modelbasedir, modeldir, expt=0):\n",
    "\n",
    "    modelpath = modelbasedir + modeldir\n",
    "    spineml2brahmsdir ='/home/seb/src/SpineML_2_BRAHMS'\n",
    "    spinemltmp = spineml2brahmsdir+'/temp/'+ modeldir\n",
    "    \n",
    "    # Execute the model\n",
    "    import os\n",
    "    spinemlcmd = '/bin/bash -c \"pushd '+spineml2brahmsdir+' && ' +\\\n",
    "                 'LD_LIBRARY_PATH=\\\"\\\" ./convert_script_s2b -m ' + modelpath + ' -e' +\\\n",
    "                 `expt` + ' -g -o' + spinemltmp + '; popd\"'\n",
    "\n",
    "    #print spinemlcmd\n",
    "    os.system(spinemlcmd)\n"
   ]
  },
  {
   "cell_type": "code",
   "execution_count": 27,
   "metadata": {
    "collapsed": false,
    "deletable": true,
    "editable": true
   },
   "outputs": [
    {
     "name": "stdout",
     "output_type": "stream",
     "text": [
      "Total rate in 1255 neurons in D1_MSN_spike_log.csv: 2509\n",
      "Mean spike rate: 0.333200531208\n",
      "Total rate in 84 neurons in FSI_spike_log.csv: 637\n",
      "Mean spike rate: 1.26388888889\n",
      "Total rate in 1255 neurons in D1_MSN_spike_log.csv: 3244\n",
      "Mean spike rate: 0.430810092961\n",
      "Total rate in 84 neurons in FSI_spike_log.csv: 740\n",
      "Mean spike rate: 1.46825396825\n",
      "Total rate in 1255 neurons in D1_MSN_spike_log.csv: 2888\n",
      "Mean spike rate: 0.383532536521\n",
      "Total rate in 84 neurons in FSI_spike_log.csv: 650\n",
      "Mean spike rate: 1.28968253968\n",
      "Total rate in 1255 neurons in D1_MSN_spike_log.csv: 2978\n",
      "Mean spike rate: 0.395484727756\n",
      "Total rate in 84 neurons in FSI_spike_log.csv: 660\n",
      "Mean spike rate: 1.30952380952\n",
      "Total rate in 1255 neurons in D1_MSN_spike_log.csv: 2772\n",
      "Mean spike rate: 0.36812749004\n",
      "Total rate in 84 neurons in FSI_spike_log.csv: 648\n",
      "Mean spike rate: 1.28571428571\n",
      "Total rate in 1255 neurons in D1_MSN_spike_log.csv: 2759\n",
      "Mean spike rate: 0.366401062417\n",
      "Total rate in 84 neurons in FSI_spike_log.csv: 671\n",
      "Mean spike rate: 1.33134920635\n",
      "Total rate in 1255 neurons in D1_MSN_spike_log.csv: 2851\n",
      "Mean spike rate: 0.378618857902\n",
      "Total rate in 84 neurons in FSI_spike_log.csv: 635\n",
      "Mean spike rate: 1.25992063492\n",
      "Total rate in 1255 neurons in D1_MSN_spike_log.csv: 2857\n",
      "Mean spike rate: 0.379415670651\n",
      "Total rate in 84 neurons in FSI_spike_log.csv: 698\n",
      "Mean spike rate: 1.38492063492\n",
      "Total rate in 1255 neurons in D1_MSN_spike_log.csv: 2897\n",
      "Mean spike rate: 0.384727755644\n",
      "Total rate in 84 neurons in FSI_spike_log.csv: 719\n",
      "Mean spike rate: 1.42658730159\n",
      "Total rate in 1255 neurons in D1_MSN_spike_log.csv: 2738\n",
      "Mean spike rate: 0.363612217795\n",
      "Total rate in 84 neurons in FSI_spike_log.csv: 692\n",
      "Mean spike rate: 1.37301587302\n",
      "Total rate in 1255 neurons in D1_MSN_spike_log.csv: 2889\n",
      "Mean spike rate: 0.383665338645\n",
      "Total rate in 84 neurons in FSI_spike_log.csv: 633\n",
      "Mean spike rate: 1.25595238095\n",
      "Total rate in 1255 neurons in D1_MSN_spike_log.csv: 2412\n",
      "Mean spike rate: 0.3203187251\n",
      "Total rate in 84 neurons in FSI_spike_log.csv: 646\n",
      "Mean spike rate: 1.28174603175\n",
      "Total rate in 1255 neurons in D1_MSN_spike_log.csv: 2317\n",
      "Mean spike rate: 0.30770252324\n",
      "Total rate in 84 neurons in FSI_spike_log.csv: 609\n",
      "Mean spike rate: 1.20833333333\n",
      "Total rate in 1255 neurons in D1_MSN_spike_log.csv: 2741\n",
      "Mean spike rate: 0.36401062417\n",
      "Total rate in 84 neurons in FSI_spike_log.csv: 683\n",
      "Mean spike rate: 1.35515873016\n",
      "Total rate in 1255 neurons in D1_MSN_spike_log.csv: 2396\n",
      "Mean spike rate: 0.318193891102\n",
      "Total rate in 84 neurons in FSI_spike_log.csv: 593\n",
      "Mean spike rate: 1.17658730159\n"
     ]
    }
   ],
   "source": [
    "modelbasedir = '/home/seb/models/GPR-BSB/impulse_event_compare/' # NB trailing slash\n",
    "\n",
    "# Either:\n",
    "#modeldir = 'event1'\n",
    "#expt = 0\n",
    "# Or:\n",
    "modeldir = 'impulse1'\n",
    "expt = 0\n",
    "\n",
    "spineml2brahmsdir ='/home/seb/src/SpineML_2_BRAHMS'\n",
    "spinemltmp = spineml2brahmsdir+'/temp/'+ modeldir\n",
    "\n",
    "d1spikes = np.array([])\n",
    "fsispikes = np.array([])\n",
    "d1rate = np.array([])\n",
    "fsirate = np.array([])\n",
    "\n",
    "for c in range(0,15):\n",
    "\n",
    "    runsim(spineml2brahmsdir, modelbasedir, modeldir, expt)\n",
    "\n",
    "    spikes, rate = firing_rate(spinemltmp+'/log/','D1_MSN_spike_log.csv', 1255, 6000)\n",
    "    d1spikes = np.append(d1spikes, spikes)\n",
    "    d1rate = np.append(d1rate, rate)\n",
    "    \n",
    "    spikes, rate = firing_rate(spinemltmp+'/log/','FSI_spike_log.csv', 84, 6000)\n",
    "    fsispikes = np.append(fsispikes, spikes)\n",
    "    fsirate = np.append(fsirate, rate)\n",
    "\n",
    "# Save the spikes and rates\n",
    "np.savetxt('/home/seb/models/GPR-BSB/labbook/'+'d1spikes1.csv', d1spikes, fmt='%d', delimiter=',', newline='\\n')\n",
    "np.savetxt('/home/seb/models/GPR-BSB/labbook/'+'fsispikes1.csv', fsispikes, fmt='%d', delimiter=',', newline='\\n')\n",
    "\n",
    "np.savetxt('/home/seb/models/GPR-BSB/labbook/'+'d1rates1.csv', d1rate, fmt='%.8f', delimiter=',', newline='\\n')\n",
    "np.savetxt('/home/seb/models/GPR-BSB/labbook/'+'fsirates1.csv', fsirate, fmt='%.8f', delimiter=',', newline='\\n')\n"
   ]
  },
  {
   "cell_type": "code",
   "execution_count": null,
   "metadata": {
    "collapsed": true
   },
   "outputs": [],
   "source": []
  }
 ],
 "metadata": {
  "kernelspec": {
   "display_name": "Python 2",
   "language": "python",
   "name": "python2"
  },
  "language_info": {
   "codemirror_mode": {
    "name": "ipython",
    "version": 2
   },
   "file_extension": ".py",
   "mimetype": "text/x-python",
   "name": "python",
   "nbconvert_exporter": "python",
   "pygments_lexer": "ipython2",
   "version": "2.7.12"
  }
 },
 "nbformat": 4,
 "nbformat_minor": 2
}
