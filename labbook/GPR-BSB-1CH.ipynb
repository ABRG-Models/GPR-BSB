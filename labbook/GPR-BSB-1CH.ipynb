{
 "cells": [
  {
   "cell_type": "markdown",
   "metadata": {
    "deletable": true,
    "editable": true
   },
   "source": [
    "# Basal Ganglia on SpiNNaker and SpineML\n",
    "\n",
    "This is a SpineML reproduction of Basab's SpiNNaker implementation of a GPR-like Basal Ganglia model. This notebook pertains to the single channel model only; there will be another notebook for the three channel model."
   ]
  },
  {
   "cell_type": "markdown",
   "metadata": {
    "deletable": true,
    "editable": true
   },
   "source": [
    "## Simple analysis from rate\n",
    "\n",
    "This is very simple spike counting code, useful for constant input, steady state network analysis."
   ]
  },
  {
   "cell_type": "code",
   "execution_count": 1,
   "metadata": {
    "collapsed": false,
    "deletable": true,
    "editable": true
   },
   "outputs": [],
   "source": [
    "import numpy as np\n",
    "def firing_rate (logdir1, spikelogfile, numneurons, simlength_ms, offset_ms=0):\n",
    "    # Read first lot of data\n",
    "    logpath = logdir1 + spikelogfile\n",
    "    spikelist = np.genfromtxt (logpath, delimiter=',')\n",
    "    \n",
    "    if spikelist.size == 0:\n",
    "        print ('Total rate in {0} neurons in {1}: 0 (empty log file)'.format(numneurons, spikelogfile))\n",
    "        return 0, 0\n",
    "    #print ('spikelist.shape: {0}'.format(spikelist.shape))\n",
    "    # Number of rate total / number of neurons / time\n",
    "    if spikelist.shape[0] == 2:\n",
    "        trate = 1\n",
    "    else:\n",
    "        trate = len(spikelist[:,0])\n",
    "        #print ('trate is {0}'.format(trate))\n",
    "        sli = np.where(spikelist[:,0]>offset_ms)\n",
    "        #print (spikelist[sli,0])\n",
    "        trate = len(spikelist[sli,0].T)\n",
    "        #print ('trate is {0}'.format(trate))\n",
    "\n",
    "    print ('Total rate in {0} neurons in {1}: {2}'.format(numneurons, spikelogfile, trate))\n",
    "    \n",
    "    spnps = float(trate) / float(numneurons) / float(float(simlength_ms)/1000.0)\n",
    "    print ('Mean spike rate: {0}'.format(spnps))\n",
    "    \n",
    "    return trate, spnps\n",
    "    \n",
    "    # I'd like to implement a moving bin to get a better estimate of the stats on the spike rate.\n",
    "    # Shouldn't be too hard, except that as the spike rate is so low in some populations, I'd probably need\n",
    "    # to run the model for much longer, so perhaps there's no great advantage over just running the model ten times.\n",
    "    "
   ]
  },
  {
   "cell_type": "markdown",
   "metadata": {
    "deletable": true,
    "editable": true
   },
   "source": [
    "## Analysis of bgbsb1_impt model\n",
    "This model is designed to operate most closely like SpiNNaker. It achieves this by collecting impulses together and applying a limit on the size of the \"weight\" (SpiNNaker language - standing for conductivity in this model). This model is more complex than the simpler, SpineML-standard-style bgbsb1 model, as it has to have several additional populations to collect and sum impulses than the normal network, along with all the attendant additional connections."
   ]
  },
  {
   "cell_type": "code",
   "execution_count": null,
   "metadata": {
    "collapsed": false,
    "deletable": true,
    "editable": true,
    "scrolled": true
   },
   "outputs": [],
   "source": [
    "# Firing rates in all populations, steady state experiment 0\n",
    "firing_rate('/home/seb/src/SpineML_2_BRAHMS/temp/Spiking_BG_BSB_1ch_imp_pt_e0/log/','D1_MSN_spike_log.csv', 1255, 6000)\n",
    "firing_rate('/home/seb/src/SpineML_2_BRAHMS/temp/Spiking_BG_BSB_1ch_imp_pt_e0/log/','D2_MSN_spike_log.csv', 1255, 6000)\n",
    "firing_rate('/home/seb/src/SpineML_2_BRAHMS/temp/Spiking_BG_BSB_1ch_imp_pt_e0/log/','FSI_spike_log.csv', 84, 6000)\n",
    "firing_rate('/home/seb/src/SpineML_2_BRAHMS/temp/Spiking_BG_BSB_1ch_imp_pt_e0/log/','STN_spike_log.csv', 14, 6000)\n",
    "firing_rate('/home/seb/src/SpineML_2_BRAHMS/temp/Spiking_BG_BSB_1ch_imp_pt_e0/log/','GPe_spike_log.csv', 46, 6000)\n",
    "firing_rate('/home/seb/src/SpineML_2_BRAHMS/temp/Spiking_BG_BSB_1ch_imp_pt_e0/log/','SNr_spike_log.csv', 27, 6000)"
   ]
  },
  {
   "cell_type": "code",
   "execution_count": null,
   "metadata": {
    "collapsed": false,
    "deletable": true,
    "editable": true
   },
   "outputs": [],
   "source": [
    "# D1 with Poisson ONLY. Experiment 1\n",
    "firing_rate('/home/seb/src/SpineML_2_BRAHMS/temp/Spiking_BG_BSB_1ch_imp_pt_e1/log/','D1_MSN_spike_log.csv', 1255, 2000)"
   ]
  },
  {
   "cell_type": "code",
   "execution_count": 37,
   "metadata": {
    "collapsed": false,
    "deletable": true,
    "editable": true
   },
   "outputs": [
    {
     "name": "stdout",
     "output_type": "stream",
     "text": [
      "Total spikes in 1255 neurons in D1_MSN_spike_log.csv: 1217\n",
      "Mean spike rate: 0.484860557769\n"
     ]
    }
   ],
   "source": [
    "# D1 with Poisson AND recurrent D1->D1 inhibition. Experiment 2\n",
    "firing_rate('/home/seb/src/SpineML_2_BRAHMS/temp/Spiking_BG_BSB_1ch_imp_pt_e2/log/','D1_MSN_spike_log.csv', 1255, 2000)"
   ]
  },
  {
   "cell_type": "markdown",
   "metadata": {
    "deletable": true,
    "editable": true
   },
   "source": [
    "## Analysis of bgbsb1 model\n",
    "The more typical SpineML-style model, which passes events rather than impulses."
   ]
  },
  {
   "cell_type": "code",
   "execution_count": 24,
   "metadata": {
    "collapsed": false,
    "deletable": true,
    "editable": true
   },
   "outputs": [
    {
     "name": "stdout",
     "output_type": "stream",
     "text": [
      "spikelist.shape: (4258, 2)\n",
      "Total spikes in 1255 neurons in D1_MSN_spike_log.csv: 4258\n",
      "Mean spike rate: 0.565471447543\n",
      "spikelist.shape: (2, 2)\n",
      "Total spikes in 1255 neurons in D2_MSN_spike_log.csv: 1\n",
      "Mean spike rate: 0.000132802124834\n",
      "spikelist.shape: (5, 2)\n",
      "Total spikes in 84 neurons in FSI_spike_log.csv: 5\n",
      "Mean spike rate: 0.00992063492063\n",
      "spikelist.shape: (1252, 2)\n",
      "Total spikes in 14 neurons in STN_spike_log.csv: 1252\n",
      "Mean spike rate: 14.9047619048\n",
      "spikelist.shape: (8275, 2)\n",
      "Total spikes in 46 neurons in GPe_spike_log.csv: 8275\n",
      "Mean spike rate: 29.981884058\n",
      "spikelist.shape: (3537, 2)\n",
      "Total spikes in 27 neurons in SNr_spike_log.csv: 3537\n",
      "Mean spike rate: 21.8333333333\n"
     ]
    }
   ],
   "source": [
    "# Firing rates in all populations, steady state experiment 0\n",
    "firing_rate('/home/seb/src/SpineML_2_BRAHMS/temp/Spiking_BG_BSB_1ch_e0/log/','D1_MSN_spike_log.csv', 1255, 6000)\n",
    "firing_rate('/home/seb/src/SpineML_2_BRAHMS/temp/Spiking_BG_BSB_1ch_e0/log/','D2_MSN_spike_log.csv', 1255, 6000)\n",
    "firing_rate('/home/seb/src/SpineML_2_BRAHMS/temp/Spiking_BG_BSB_1ch_e0/log/','FSI_spike_log.csv', 84, 6000)\n",
    "firing_rate('/home/seb/src/SpineML_2_BRAHMS/temp/Spiking_BG_BSB_1ch_e0/log/','STN_spike_log.csv', 14, 6000)\n",
    "firing_rate('/home/seb/src/SpineML_2_BRAHMS/temp/Spiking_BG_BSB_1ch_e0/log/','GPe_spike_log.csv', 46, 6000)\n",
    "firing_rate('/home/seb/src/SpineML_2_BRAHMS/temp/Spiking_BG_BSB_1ch_e0/log/','SNr_spike_log.csv', 27, 6000)"
   ]
  },
  {
   "cell_type": "code",
   "execution_count": 43,
   "metadata": {
    "collapsed": false,
    "deletable": true,
    "editable": true
   },
   "outputs": [
    {
     "name": "stdout",
     "output_type": "stream",
     "text": [
      "Total spikes in 1255 neurons in D1_MSN_spike_log.csv: 1467\n",
      "Mean spike rate: 0.194820717131\n"
     ]
    }
   ],
   "source": [
    "# D1 with Poisson ONLY. Experiment 1\n",
    "firing_rate('/home/seb/src/SpineML_2_BRAHMS/temp/Spiking_BG_BSB_1ch_e1/log/','D1_MSN_spike_log.csv', 1255, 6000)"
   ]
  },
  {
   "cell_type": "code",
   "execution_count": 44,
   "metadata": {
    "collapsed": false,
    "deletable": true,
    "editable": true
   },
   "outputs": [
    {
     "name": "stdout",
     "output_type": "stream",
     "text": [
      "Total spikes in 1255 neurons in D1_MSN_spike_log.csv: 1217\n",
      "Mean spike rate: 0.484860557769\n"
     ]
    }
   ],
   "source": [
    "# D1 with Poisson AND recurrent D1->D1 inhibition. Experiment 2\n",
    "firing_rate('/home/seb/src/SpineML_2_BRAHMS/temp/Spiking_BG_BSB_1ch_imp_pt_e2/log/','D1_MSN_spike_log.csv', 1255, 2000)"
   ]
  },
  {
   "cell_type": "markdown",
   "metadata": {
    "deletable": true,
    "editable": true
   },
   "source": [
    "## Batch running a model\n",
    "Define code to run the model multiple times, collecting the firing rates each time and storing this to csv files.\n",
    "\n",
    "Note that at present, the analysis of these results is via an R script (I would prefer to get this kind of bootstrap into python though, which would be neater)."
   ]
  },
  {
   "cell_type": "code",
   "execution_count": 2,
   "metadata": {
    "collapsed": true,
    "deletable": true,
    "editable": true
   },
   "outputs": [],
   "source": [
    "def runsim (spineml2brahmsdir, modelbasedir, modeldir, expt=0):\n",
    "\n",
    "    modelpath = modelbasedir + modeldir\n",
    "    spineml2brahmsdir ='/home/seb/src/SpineML_2_BRAHMS'\n",
    "    spinemltmp = spineml2brahmsdir+'/temp/'+ modeldir\n",
    "    \n",
    "    # Execute the model\n",
    "    import os\n",
    "    spinemlcmd = '/bin/bash -c \"pushd '+spineml2brahmsdir+' && ' +\\\n",
    "                 'LD_LIBRARY_PATH=\\\"\\\" ./convert_script_s2b -m ' + modelpath + ' -e' +\\\n",
    "                 `expt` + ' -g -o' + spinemltmp + '; popd\"'\n",
    "\n",
    "    #print spinemlcmd\n",
    "    os.system(spinemlcmd)\n"
   ]
  },
  {
   "cell_type": "code",
   "execution_count": 7,
   "metadata": {
    "collapsed": false
   },
   "outputs": [],
   "source": [
    "def makeexpt (seed1, seed2):\n",
    "    exstr = '<?xml version=\"1.0\" encoding=\"UTF-8\"?><SpineML xmlns:UL=\"http://www.shef.ac.uk/SpineMLNetworkLayer\" xmlns:xsi=\"http://www.w3.org/2001/XMLSchema-instance\" xmlns=\"http://www.shef.ac.uk/SpineMLExperimentLayer\" xsi:schemaLocation=\"http://www.shef.ac.uk/SpineMLNetworkLayer SpineMLNetworkLayer.xsd http://www.shef.ac.uk/SpineMLExperimentLayer SpineMLExperimentLayer.xsd\"><Experiment name=\"Steady state minlog\" description=\"Run model with just the background input; no selected channel. Just spike logging.\"><Model network_layer_url=\"model.xml\"/><Simulation duration=\"6\" preferred_simulator=\"BRAHMS\"><EulerIntegration dt=\"0.1\"/></Simulation><TimeVaryingInput target=\"Background\" port=\"spike\" name=\"BG Poisson Spikes\" rate_based_input=\"poisson\" rate_seed=\"{0}\"><TimePointValue time=\"0\" value=\"0\"/><TimePointValue time=\"700\" value=\"3\"/><TimePointValue time=\"5900\" value=\"0\"/></TimeVaryingInput><TimeVaryingInput target=\"BackgroundSTN\" port=\"spike\" name=\"BG STN\" rate_based_input=\"poisson\" rate_seed=\"{1}\"><TimePointValue time=\"0\" value=\"0\"/><TimePointValue time=\"700\" value=\"3\"/><TimePointValue time=\"5900\" value=\"0\"/></TimeVaryingInput><LogOutput name=\"SNr spikes\" target=\"SNr\" port=\"spike\" start_time=\"0\" end_time=\"6.32404e-322\"/><LogOutput name=\"GPe spikes\" target=\"GPe\" port=\"spike\" start_time=\"0\" end_time=\"6.32404e-322\"/><LogOutput name=\"FSI spike\" target=\"FSI\" port=\"spike\" start_time=\"0\" end_time=\"6.32404e-322\"/><LogOutput name=\"D1 spike\" target=\"D1 MSN\" port=\"spike\" start_time=\"0\" end_time=\"6.32404e-322\"/><LogOutput name=\"D2 spike\" target=\"D2 MSN\" port=\"spike\" start_time=\"0\" end_time=\"6.32404e-322\"/><LogOutput name=\"STN spikes\" target=\"STN\" port=\"spike\" start_time=\"0\" end_time=\"6.32404e-322\"/></Experiment></SpineML>\\n'.format(seed1,seed2)\n",
    "    return exstr"
   ]
  },
  {
   "cell_type": "code",
   "execution_count": 10,
   "metadata": {
    "collapsed": false,
    "deletable": true,
    "editable": true
   },
   "outputs": [
    {
     "name": "stdout",
     "output_type": "stream",
     "text": [
      "Run model for seeds 153 (D1) and 154 (STN)\n",
      "Total rate in 1255 neurons in D1_MSN_spike_log.csv: 2966\n",
      "Mean spike rate: 0.393891102258\n",
      "Total rate in 1255 neurons in D2_MSN_spike_log.csv: 0 (empty log file)\n",
      "Total rate in 84 neurons in FSI_spike_log.csv: 0 (empty log file)\n",
      "Total rate in 14 neurons in STN_spike_log.csv: 1175\n",
      "Mean spike rate: 13.9880952381\n",
      "Total rate in 46 neurons in GPe_spike_log.csv: 8540\n",
      "Mean spike rate: 30.9420289855\n",
      "Total rate in 27 neurons in SNr_spike_log.csv: 3701\n",
      "Mean spike rate: 22.8456790123\n",
      "Run model for seeds 155 (D1) and 156 (STN)\n",
      "Total rate in 1255 neurons in D1_MSN_spike_log.csv: 3236\n",
      "Mean spike rate: 0.429747675963\n",
      "Total rate in 1255 neurons in D2_MSN_spike_log.csv: 0 (empty log file)\n",
      "Total rate in 84 neurons in FSI_spike_log.csv: 1\n",
      "Mean spike rate: 0.00198412698413\n",
      "Total rate in 14 neurons in STN_spike_log.csv: 1157\n",
      "Mean spike rate: 13.7738095238\n",
      "Total rate in 46 neurons in GPe_spike_log.csv: 8522\n",
      "Mean spike rate: 30.8768115942\n",
      "Total rate in 27 neurons in SNr_spike_log.csv: 3724\n",
      "Mean spike rate: 22.987654321\n",
      "Run model for seeds 157 (D1) and 158 (STN)\n",
      "Total rate in 1255 neurons in D1_MSN_spike_log.csv: 2396\n",
      "Mean spike rate: 0.318193891102\n",
      "Total rate in 1255 neurons in D2_MSN_spike_log.csv: 0 (empty log file)\n",
      "Total rate in 84 neurons in FSI_spike_log.csv: 0 (empty log file)\n",
      "Total rate in 14 neurons in STN_spike_log.csv: 1170\n",
      "Mean spike rate: 13.9285714286\n",
      "Total rate in 46 neurons in GPe_spike_log.csv: 8515\n",
      "Mean spike rate: 30.8514492754\n",
      "Total rate in 27 neurons in SNr_spike_log.csv: 3739\n",
      "Mean spike rate: 23.0802469136\n",
      "Run model for seeds 159 (D1) and 160 (STN)\n",
      "Total rate in 1255 neurons in D1_MSN_spike_log.csv: 2240\n",
      "Mean spike rate: 0.297476759628\n",
      "Total rate in 1255 neurons in D2_MSN_spike_log.csv: 0 (empty log file)\n",
      "Total rate in 84 neurons in FSI_spike_log.csv: 0 (empty log file)\n",
      "Total rate in 14 neurons in STN_spike_log.csv: 1162\n",
      "Mean spike rate: 13.8333333333\n",
      "Total rate in 46 neurons in GPe_spike_log.csv: 8545\n",
      "Mean spike rate: 30.9601449275\n",
      "Total rate in 27 neurons in SNr_spike_log.csv: 3741\n",
      "Mean spike rate: 23.0925925926\n",
      "Run model for seeds 161 (D1) and 162 (STN)\n",
      "Total rate in 1255 neurons in D1_MSN_spike_log.csv: 3618\n",
      "Mean spike rate: 0.480478087649\n",
      "Total rate in 1255 neurons in D2_MSN_spike_log.csv: 1\n",
      "Mean spike rate: 0.000132802124834\n",
      "Total rate in 84 neurons in FSI_spike_log.csv: 1\n",
      "Mean spike rate: 0.00198412698413\n",
      "Total rate in 14 neurons in STN_spike_log.csv: 1168\n",
      "Mean spike rate: 13.9047619048\n",
      "Total rate in 46 neurons in GPe_spike_log.csv: 8538\n",
      "Mean spike rate: 30.9347826087\n",
      "Total rate in 27 neurons in SNr_spike_log.csv: 3692\n",
      "Mean spike rate: 22.7901234568\n",
      "Run model for seeds 163 (D1) and 164 (STN)\n",
      "Total rate in 1255 neurons in D1_MSN_spike_log.csv: 3394\n",
      "Mean spike rate: 0.450730411687\n",
      "Total rate in 1255 neurons in D2_MSN_spike_log.csv: 0 (empty log file)\n",
      "Total rate in 84 neurons in FSI_spike_log.csv: 1\n",
      "Mean spike rate: 0.00198412698413\n",
      "Total rate in 14 neurons in STN_spike_log.csv: 1159\n",
      "Mean spike rate: 13.7976190476\n",
      "Total rate in 46 neurons in GPe_spike_log.csv: 8498\n",
      "Mean spike rate: 30.7898550725\n",
      "Total rate in 27 neurons in SNr_spike_log.csv: 3684\n",
      "Mean spike rate: 22.7407407407\n",
      "Run model for seeds 165 (D1) and 166 (STN)\n",
      "Total rate in 1255 neurons in D1_MSN_spike_log.csv: 3975\n",
      "Mean spike rate: 0.527888446215\n",
      "Total rate in 1255 neurons in D2_MSN_spike_log.csv: 1\n",
      "Mean spike rate: 0.000132802124834\n",
      "Total rate in 84 neurons in FSI_spike_log.csv: 1\n",
      "Mean spike rate: 0.00198412698413\n",
      "Total rate in 14 neurons in STN_spike_log.csv: 1170\n",
      "Mean spike rate: 13.9285714286\n",
      "Total rate in 46 neurons in GPe_spike_log.csv: 8567\n",
      "Mean spike rate: 31.0398550725\n",
      "Total rate in 27 neurons in SNr_spike_log.csv: 3711\n",
      "Mean spike rate: 22.9074074074\n",
      "Run model for seeds 167 (D1) and 168 (STN)\n",
      "Total rate in 1255 neurons in D1_MSN_spike_log.csv: 3381\n",
      "Mean spike rate: 0.449003984064\n",
      "Total rate in 1255 neurons in D2_MSN_spike_log.csv: 1\n",
      "Mean spike rate: 0.000132802124834\n",
      "Total rate in 84 neurons in FSI_spike_log.csv: 4\n",
      "Mean spike rate: 0.00793650793651\n",
      "Total rate in 14 neurons in STN_spike_log.csv: 1180\n",
      "Mean spike rate: 14.0476190476\n",
      "Total rate in 46 neurons in GPe_spike_log.csv: 8544\n",
      "Mean spike rate: 30.9565217391\n",
      "Total rate in 27 neurons in SNr_spike_log.csv: 3735\n",
      "Mean spike rate: 23.0555555556\n",
      "Run model for seeds 169 (D1) and 170 (STN)\n",
      "Total rate in 1255 neurons in D1_MSN_spike_log.csv: 2726\n",
      "Mean spike rate: 0.362018592297\n",
      "Total rate in 1255 neurons in D2_MSN_spike_log.csv: 0 (empty log file)\n",
      "Total rate in 84 neurons in FSI_spike_log.csv: 1\n",
      "Mean spike rate: 0.00198412698413\n",
      "Total rate in 14 neurons in STN_spike_log.csv: 1168\n",
      "Mean spike rate: 13.9047619048\n",
      "Total rate in 46 neurons in GPe_spike_log.csv: 8548\n",
      "Mean spike rate: 30.9710144928\n",
      "Total rate in 27 neurons in SNr_spike_log.csv: 3728\n",
      "Mean spike rate: 23.012345679\n",
      "Run model for seeds 171 (D1) and 172 (STN)\n",
      "Total rate in 1255 neurons in D1_MSN_spike_log.csv: 3316\n",
      "Mean spike rate: 0.44037184595\n",
      "Total rate in 1255 neurons in D2_MSN_spike_log.csv: 4\n",
      "Mean spike rate: 0.000531208499336\n",
      "Total rate in 84 neurons in FSI_spike_log.csv: 1\n",
      "Mean spike rate: 0.00198412698413\n",
      "Total rate in 14 neurons in STN_spike_log.csv: 1161\n",
      "Mean spike rate: 13.8214285714\n",
      "Total rate in 46 neurons in GPe_spike_log.csv: 8528\n",
      "Mean spike rate: 30.8985507246\n",
      "Total rate in 27 neurons in SNr_spike_log.csv: 3707\n",
      "Mean spike rate: 22.8827160494\n",
      "Run model for seeds 173 (D1) and 174 (STN)\n",
      "Total rate in 1255 neurons in D1_MSN_spike_log.csv: 2671\n",
      "Mean spike rate: 0.354714475432\n",
      "Total rate in 1255 neurons in D2_MSN_spike_log.csv: 0 (empty log file)\n",
      "Total rate in 84 neurons in FSI_spike_log.csv: 1\n",
      "Mean spike rate: 0.00198412698413\n",
      "Total rate in 14 neurons in STN_spike_log.csv: 1174\n",
      "Mean spike rate: 13.9761904762\n",
      "Total rate in 46 neurons in GPe_spike_log.csv: 8579\n",
      "Mean spike rate: 31.0833333333\n",
      "Total rate in 27 neurons in SNr_spike_log.csv: 3773\n",
      "Mean spike rate: 23.2901234568\n",
      "Run model for seeds 175 (D1) and 176 (STN)\n",
      "Total rate in 1255 neurons in D1_MSN_spike_log.csv: 2894\n",
      "Mean spike rate: 0.38432934927\n",
      "Total rate in 1255 neurons in D2_MSN_spike_log.csv: 1\n",
      "Mean spike rate: 0.000132802124834\n",
      "Total rate in 84 neurons in FSI_spike_log.csv: 1\n",
      "Mean spike rate: 0.00198412698413\n",
      "Total rate in 14 neurons in STN_spike_log.csv: 1162\n",
      "Mean spike rate: 13.8333333333\n",
      "Total rate in 46 neurons in GPe_spike_log.csv: 8522\n",
      "Mean spike rate: 30.8768115942\n",
      "Total rate in 27 neurons in SNr_spike_log.csv: 3697\n",
      "Mean spike rate: 22.8209876543\n",
      "Run model for seeds 177 (D1) and 178 (STN)\n",
      "Total rate in 1255 neurons in D1_MSN_spike_log.csv: 2987\n",
      "Mean spike rate: 0.396679946879\n",
      "Total rate in 1255 neurons in D2_MSN_spike_log.csv: 0 (empty log file)\n",
      "Total rate in 84 neurons in FSI_spike_log.csv: 0 (empty log file)\n",
      "Total rate in 14 neurons in STN_spike_log.csv: 1180\n",
      "Mean spike rate: 14.0476190476\n",
      "Total rate in 46 neurons in GPe_spike_log.csv: 8579\n",
      "Mean spike rate: 31.0833333333\n",
      "Total rate in 27 neurons in SNr_spike_log.csv: 3746\n",
      "Mean spike rate: 23.1234567901\n",
      "Run model for seeds 179 (D1) and 180 (STN)\n",
      "Total rate in 1255 neurons in D1_MSN_spike_log.csv: 3170\n",
      "Mean spike rate: 0.420982735724\n",
      "Total rate in 1255 neurons in D2_MSN_spike_log.csv: 0 (empty log file)\n",
      "Total rate in 84 neurons in FSI_spike_log.csv: 4\n",
      "Mean spike rate: 0.00793650793651\n",
      "Total rate in 14 neurons in STN_spike_log.csv: 1159\n",
      "Mean spike rate: 13.7976190476\n",
      "Total rate in 46 neurons in GPe_spike_log.csv: 8504\n",
      "Mean spike rate: 30.8115942029\n",
      "Total rate in 27 neurons in SNr_spike_log.csv: 3693\n",
      "Mean spike rate: 22.7962962963\n",
      "Run model for seeds 181 (D1) and 182 (STN)\n",
      "Total rate in 1255 neurons in D1_MSN_spike_log.csv: 2671\n",
      "Mean spike rate: 0.354714475432\n",
      "Total rate in 1255 neurons in D2_MSN_spike_log.csv: 1\n",
      "Mean spike rate: 0.000132802124834\n",
      "Total rate in 84 neurons in FSI_spike_log.csv: 1\n",
      "Mean spike rate: 0.00198412698413\n",
      "Total rate in 14 neurons in STN_spike_log.csv: 1175\n",
      "Mean spike rate: 13.9880952381\n",
      "Total rate in 46 neurons in GPe_spike_log.csv: 8518\n",
      "Mean spike rate: 30.8623188406\n",
      "Total rate in 27 neurons in SNr_spike_log.csv: 3692\n",
      "Mean spike rate: 22.7901234568\n"
     ]
    }
   ],
   "source": [
    "modelbasedir = '/home/seb/models/GPR-BSB/'\n",
    "\n",
    "# Choose bgbsb1 bgbsb1_impt bgbsb1_fixcon or bgbsb1_impt_fixcon:\n",
    "modeldir = 'bgbsb1_impt_fixcon'\n",
    "expt = 3\n",
    "# Choose whether Poisson spike train seeds should be a predictable series:\n",
    "predictable_seeds = 1\n",
    "\n",
    "spineml2brahmsdir ='/home/seb/src/SpineML_2_BRAHMS'\n",
    "spinemltmp = spineml2brahmsdir+'/temp/'+ modeldir\n",
    "\n",
    "d1spikes = np.array([])\n",
    "d2spikes = np.array([])\n",
    "fsispikes = np.array([])\n",
    "stnspikes = np.array([])\n",
    "gpespikes = np.array([])\n",
    "snrspikes = np.array([])\n",
    "\n",
    "d1rate = np.array([])\n",
    "d2rate = np.array([])\n",
    "fsirate = np.array([])\n",
    "stnrate = np.array([])\n",
    "gperate = np.array([])\n",
    "snrrate = np.array([])\n",
    "\n",
    "\n",
    "if predictable_seeds:\n",
    "    import subprocess\n",
    "    epath = modelbasedir+modeldir+'/experiment{0}.xml'.format(expt)\n",
    "    d1seed=153\n",
    "    stnseed=154\n",
    "    d1seeds = np.array([])\n",
    "    stnseeds = np.array([])\n",
    "\n",
    "for c in range(0,15):\n",
    "\n",
    "    if predictable_seeds:\n",
    "        # Set the same Poisson seed in each model. Assum both start with D1 seed 123 and STN seed 124\n",
    "        print ('Run model for seeds {0} (D1) and {1} (STN)'.format(d1seed,stnseed))\n",
    "        exstr = makeexpt(d1seed,stnseed)\n",
    "        with open(epath, 'w') as f:\n",
    "            f.write(exstr)\n",
    "            f.close()\n",
    "\n",
    "        d1seeds = np.append(d1seeds, d1seed)\n",
    "        stnseeds = np.append(stnseeds, stnseed)\n",
    "        d1seed = d1seed + 2\n",
    "        stnseed = stnseed + 2\n",
    "    \n",
    "    runsim(spineml2brahmsdir, modelbasedir, modeldir, expt)\n",
    "\n",
    "    spikes, rate = firing_rate(spinemltmp+'/log/','D1_MSN_spike_log.csv', 1255, 6000)\n",
    "    d1spikes = np.append(d1spikes, spikes)\n",
    "    d1rate = np.append(d1rate, rate)\n",
    "    \n",
    "    spikes, rate = firing_rate(spinemltmp+'/log/','D2_MSN_spike_log.csv', 1255, 6000)\n",
    "    d2spikes = np.append(d2spikes, spikes)\n",
    "    d2rate = np.append(d2rate, rate)\n",
    "\n",
    "    spikes, rate = firing_rate(spinemltmp+'/log/','FSI_spike_log.csv', 84, 6000)\n",
    "    fsispikes = np.append(fsispikes, spikes)\n",
    "    fsirate = np.append(fsirate, rate)\n",
    "\n",
    "    spikes, rate = firing_rate(spinemltmp+'/log/','STN_spike_log.csv', 14, 6000)\n",
    "    stnspikes = np.append(stnspikes, spikes)\n",
    "    stnrate = np.append(stnrate, rate)\n",
    "    \n",
    "    spikes, rate = firing_rate(spinemltmp+'/log/','GPe_spike_log.csv', 46, 6000)\n",
    "    gpespikes = np.append(gpespikes, spikes)\n",
    "    gperate = np.append(gperate, rate)\n",
    "    \n",
    "    spikes, rate = firing_rate(spinemltmp+'/log/','SNr_spike_log.csv', 27, 6000)\n",
    "    snrspikes = np.append(snrspikes, spikes)\n",
    "    snrrate = np.append(snrrate, rate)\n",
    "\n",
    "# Save the spikes and rates\n",
    "np.savetxt(modelbasedir+'/labbook/'+'d1spikes.csv', d1spikes, fmt='%d', delimiter=',', newline='\\n')\n",
    "np.savetxt(modelbasedir+'/labbook/'+'d2spikes.csv', d2spikes, fmt='%d', delimiter=',', newline='\\n')\n",
    "np.savetxt(modelbasedir+'/labbook/'+'fsispikes.csv', fsispikes, fmt='%d', delimiter=',', newline='\\n')\n",
    "np.savetxt(modelbasedir+'/labbook/'+'stnspikes.csv', stnspikes, fmt='%d', delimiter=',', newline='\\n')\n",
    "np.savetxt(modelbasedir+'/labbook/'+'gpespikes.csv', gpespikes, fmt='%d', delimiter=',', newline='\\n')\n",
    "np.savetxt(modelbasedir+'/labbook/'+'snrspikes.csv', snrspikes, fmt='%d', delimiter=',', newline='\\n')\n",
    "\n",
    "np.savetxt(modelbasedir+'/labbook/'+'d1rates.csv', d1rate, fmt='%.8f', delimiter=',', newline='\\n')\n",
    "np.savetxt(modelbasedir+'/labbook/'+'d2rates.csv', d2rate, fmt='%.8f', delimiter=',', newline='\\n')\n",
    "np.savetxt(modelbasedir+'/labbook/'+'fsirates.csv', fsirate, fmt='%.8f', delimiter=',', newline='\\n')\n",
    "np.savetxt(modelbasedir+'/labbook/'+'stnrates.csv', stnrate, fmt='%.8f', delimiter=',', newline='\\n')\n",
    "np.savetxt(modelbasedir+'/labbook/'+'gperates.csv', gperate, fmt='%.8f', delimiter=',', newline='\\n')\n",
    "np.savetxt(modelbasedir+'/labbook/'+'snrrates.csv', snrrate, fmt='%.8f', delimiter=',', newline='\\n')\n",
    "\n",
    "if predictable_seeds:\n",
    "    np.savetxt(modelbasedir+'/labbook/'+'d1seeds.csv', d1seeds, fmt='%d', delimiter=',', newline='\\n')\n",
    "    np.savetxt(modelbasedir+'/labbook/'+'stnseeds.csv', stnseeds, fmt='%d', delimiter=',', newline='\\n')\n",
    "\n",
    "    # Reset seeds in expt:\n",
    "    exstr = makeexpt(0,0)\n",
    "    with open(epath, 'w') as f:\n",
    "        f.write(exstr)\n",
    "        f.close()\n"
   ]
  }
 ],
 "metadata": {
  "kernelspec": {
   "display_name": "Python 2",
   "language": "python",
   "name": "python2"
  },
  "language_info": {
   "codemirror_mode": {
    "name": "ipython",
    "version": 2
   },
   "file_extension": ".py",
   "mimetype": "text/x-python",
   "name": "python",
   "nbconvert_exporter": "python",
   "pygments_lexer": "ipython2",
   "version": "2.7.12"
  }
 },
 "nbformat": 4,
 "nbformat_minor": 2
}
